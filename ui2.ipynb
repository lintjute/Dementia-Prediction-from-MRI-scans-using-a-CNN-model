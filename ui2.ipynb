{
 "cells": [
  {
   "cell_type": "code",
   "execution_count": 2,
   "id": "e26bb22a-8405-4a6e-b962-b35bc71d37ac",
   "metadata": {
    "tags": []
   },
   "outputs": [
    {
     "name": "stdout",
     "output_type": "stream",
     "text": [
      "Running on local URL:  http://127.0.0.1:7861\n",
      "\n",
      "To create a public link, set `share=True` in `launch()`.\n"
     ]
    },
    {
     "data": {
      "text/html": [
       "<div><iframe src=\"http://127.0.0.1:7861/\" width=\"100%\" height=\"500\" allow=\"autoplay; camera; microphone; clipboard-read; clipboard-write;\" frameborder=\"0\" allowfullscreen></iframe></div>"
      ],
      "text/plain": [
       "<IPython.core.display.HTML object>"
      ]
     },
     "metadata": {},
     "output_type": "display_data"
    },
    {
     "data": {
      "text/plain": []
     },
     "execution_count": 2,
     "metadata": {},
     "output_type": "execute_result"
    },
    {
     "name": "stdout",
     "output_type": "stream",
     "text": [
      "1/1 [==============================] - 0s 305ms/step\n"
     ]
    }
   ],
   "source": [
    "import gradio as gr\n",
    "import cv2\n",
    "import numpy as np\n",
    "from tensorflow.keras.models import load_model\n",
    "\n",
    "# Load the model\n",
    "model = load_model('alzheimers_low_power.h5')  # Replace with your model file path\n",
    "\n",
    "# Define preprocessing function for the input image\n",
    "def preprocess(img):\n",
    "    img = cv2.resize(img, (224, 224))  # Resize to match the input size used during training\n",
    "    img = cv2.cvtColor(img, cv2.COLOR_BGR2RGB)  # Ensure correct color channels\n",
    "    img = img / 255.0  # Normalize pixel values\n",
    "    img = np.expand_dims(img, axis=0)  # Add batch dimension\n",
    "    return img\n",
    "\n",
    "# Define prediction function\n",
    "def predict_image(image):\n",
    "    preprocessed_img = preprocess(image)\n",
    "    prediction = model.predict(preprocessed_img)\n",
    "    predicted_class = np.argmax(prediction)\n",
    "    if predicted_class == 0:\n",
    "        label = \"Demented\"\n",
    "    else:\n",
    "        label = \"Not Demented\"\n",
    "    return label  # Only return the label, without confidence\n",
    "\n",
    "# Create a Gradio interface\n",
    "iface = gr.Interface(\n",
    "    fn=predict_image, \n",
    "    inputs=gr.Image(),  # Gradio handles images of various sizes\n",
    "    outputs=gr.Textbox(label=\"Prediction\")  # Use a Textbox to display the prediction label\n",
    ")\n",
    "\n",
    "# Launch the interface\n",
    "iface.launch()\n"
   ]
  },
  {
   "cell_type": "code",
   "execution_count": null,
   "id": "56eb2bf5-077e-40fc-ad7e-faf16dc90099",
   "metadata": {},
   "outputs": [],
   "source": []
  }
 ],
 "metadata": {
  "kernelspec": {
   "display_name": "Python 3 (ipykernel)",
   "language": "python",
   "name": "python3"
  },
  "language_info": {
   "codemirror_mode": {
    "name": "ipython",
    "version": 3
   },
   "file_extension": ".py",
   "mimetype": "text/x-python",
   "name": "python",
   "nbconvert_exporter": "python",
   "pygments_lexer": "ipython3",
   "version": "3.11.5"
  }
 },
 "nbformat": 4,
 "nbformat_minor": 5
}
